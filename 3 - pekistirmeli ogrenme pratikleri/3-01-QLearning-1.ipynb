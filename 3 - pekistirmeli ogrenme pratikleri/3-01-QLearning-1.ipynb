{
 "cells": [
  {
   "cell_type": "code",
   "execution_count": null,
   "id": "5368c6d5",
   "metadata": {},
   "outputs": [
    {
     "name": "stdout",
     "output_type": "stream",
     "text": [
      "Q-table :\n",
      "[[0. 0. 0. 0.]\n",
      " [0. 0. 0. 0.]\n",
      " [0. 0. 0. 0.]\n",
      " [0. 0. 0. 0.]\n",
      " [0. 0. 0. 0.]\n",
      " [0. 0. 0. 0.]\n",
      " [0. 0. 0. 0.]\n",
      " [0. 0. 0. 0.]\n",
      " [0. 0. 0. 0.]\n",
      " [0. 0. 0. 0.]\n",
      " [0. 0. 0. 0.]\n",
      " [0. 0. 0. 0.]\n",
      " [0. 0. 0. 0.]\n",
      " [0. 0. 0. 0.]\n",
      " [0. 0. 0. 0.]\n",
      " [0. 0. 0. 0.]]\n"
     ]
    }
   ],
   "source": [
    "# Library\n",
    "# https://gymnasium.farama.org/environments/toy_text/frozen_lake/\n",
    "# odev\n",
    "# https://gymnasium.farama.org/environments/toy_text/cliff_walking/\n",
    "\n",
    "# import gym\n",
    "import gymnasium as gym\n",
    "import numpy as np\n",
    "\n",
    "# is_slippery=False yaparak ajanin buzlu alanda kaymasini engelliyoruz\n",
    "environment = gym.make(\"FrozenLake-v1\", is_slippery=False, render_mode=\"ansi\")\n",
    "environment.reset() # (0, {'prob': 1})\n",
    "\n",
    "nb_states = environment.observation_space.n # np.int64(16)\n",
    "nb_actions = environment.action_space.n # np.int64(4)\n",
    "qtable = np.zeros((nb_states, nb_actions))\n",
    "\n",
    "print(\"Q-table :\")\n",
    "print(qtable)\n",
    "\n",
    "action = environment.action_space.sample() # random action gerceklesir\n",
    "\"\"\"\n",
    "sol : 0\n",
    "aşağı : 1\n",
    "sağ : 2\n",
    "yukarı : 3\n",
    "\"\"\"\n",
    "\n",
    "# S1 -> (Action 1) -> S2\n",
    "new_state, reward, done, info, _ = environment.step(action)"
   ]
  }
 ],
 "metadata": {
  "kernelspec": {
   "display_name": ".env",
   "language": "python",
   "name": "python3"
  },
  "language_info": {
   "codemirror_mode": {
    "name": "ipython",
    "version": 3
   },
   "file_extension": ".py",
   "mimetype": "text/x-python",
   "name": "python",
   "nbconvert_exporter": "python",
   "pygments_lexer": "ipython3",
   "version": "3.13.5"
  }
 },
 "nbformat": 4,
 "nbformat_minor": 5
}
