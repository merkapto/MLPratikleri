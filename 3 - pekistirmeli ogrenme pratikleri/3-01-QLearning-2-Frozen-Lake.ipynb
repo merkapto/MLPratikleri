{
 "cells": [
  {
   "cell_type": "code",
   "execution_count": 10,
   "id": "e8453ddb",
   "metadata": {},
   "outputs": [
    {
     "name": "stdout",
     "output_type": "stream",
     "text": [
      "Q-table :\n",
      "[[0. 0. 0. 0.]\n",
      " [0. 0. 0. 0.]\n",
      " [0. 0. 0. 0.]\n",
      " [0. 0. 0. 0.]\n",
      " [0. 0. 0. 0.]\n",
      " [0. 0. 0. 0.]\n",
      " [0. 0. 0. 0.]\n",
      " [0. 0. 0. 0.]\n",
      " [0. 0. 0. 0.]\n",
      " [0. 0. 0. 0.]\n",
      " [0. 0. 0. 0.]\n",
      " [0. 0. 0. 0.]\n",
      " [0. 0. 0. 0.]\n",
      " [0. 0. 0. 0.]\n",
      " [0. 0. 0. 0.]\n",
      " [0. 0. 0. 0.]]\n"
     ]
    },
    {
     "name": "stderr",
     "output_type": "stream",
     "text": [
      "100%|██████████| 1000/1000 [00:00<00:00, 8467.64it/s]"
     ]
    },
    {
     "name": "stdout",
     "output_type": "stream",
     "text": [
      "Q-table after training :\n",
      "[[0.      0.      0.59049 0.     ]\n",
      " [0.      0.      0.6561  0.     ]\n",
      " [0.      0.729   0.      0.     ]\n",
      " [0.      0.      0.      0.     ]\n",
      " [0.      0.      0.      0.     ]\n",
      " [0.      0.      0.      0.     ]\n",
      " [0.      0.81    0.      0.     ]\n",
      " [0.      0.      0.      0.     ]\n",
      " [0.      0.      0.      0.     ]\n",
      " [0.      0.      0.      0.     ]\n",
      " [0.      0.9     0.      0.     ]\n",
      " [0.      0.      0.      0.     ]\n",
      " [0.      0.      0.      0.     ]\n",
      " [0.      0.      0.      0.     ]\n",
      " [0.      0.      1.      0.     ]\n",
      " [0.      0.      0.      0.     ]]\n"
     ]
    },
    {
     "name": "stderr",
     "output_type": "stream",
     "text": [
      "\n",
      "100%|██████████| 100/100 [00:00<00:00, 9504.43it/s]\n"
     ]
    },
    {
     "name": "stdout",
     "output_type": "stream",
     "text": [
      "\n",
      "Success rate : 100.0\n"
     ]
    },
    {
     "data": {
      "image/png": "[encoded data removed]",
      "text/plain": [
       "<Figure size 640x480 with 1 Axes>"
      ]
     },
     "metadata": {},
     "output_type": "display_data"
    }
   ],
   "source": [
    "import gymnasium as gym\n",
    "import numpy as np\n",
    "import matplotlib.pylab as plt\n",
    "from tqdm import tqdm\n",
    "\n",
    "environment = gym.make(\"FrozenLake-v1\", is_slippery=False, render_mode=\"ansi\")\n",
    "environment.reset()\n",
    "\n",
    "nb_states = environment.observation_space.n\n",
    "nb_actions = environment.action_space.n\n",
    "qtable = np.zeros((nb_states, nb_actions))\n",
    "\n",
    "print(\"Q-table :\")\n",
    "print(qtable) # ajanin beyni\n",
    "\n",
    "episodes = 1000 # kac kere oynanacak\n",
    "alpha = 0.5 # learning rate\n",
    "gamma = 0.9 # discount rate\n",
    "\n",
    "outcomes = []\n",
    "\n",
    "# training\n",
    "for _ in tqdm(range(episodes)):\n",
    "\n",
    "    state, _ = environment.reset()\n",
    "    done = False # ajanin basari durumu\n",
    "\n",
    "    outcomes.append(\"Failure\")\n",
    "\n",
    "    while not done: # ajan basarili olana kadar state icerisinde hareket et (action sec ve uygula)\n",
    "\n",
    "        # action\n",
    "        if np.max(qtable[state]) > 0:\n",
    "            action = np.argmax(qtable[state])\n",
    "        else:\n",
    "            action = environment.action_space.sample()\n",
    "        \n",
    "        new_state, reward, done, info, _ = environment.step(action)\n",
    "\n",
    "        # update q-table\n",
    "        qtable[state, action] = qtable[state, action] + alpha * (reward + gamma * np.max(qtable[new_state]) - qtable[state, action])\n",
    "\n",
    "        state = new_state\n",
    "\n",
    "        if reward:\n",
    "            outcomes[-1] = \"Success\"\n",
    "\n",
    "print(\"Q-table after training :\")\n",
    "print(qtable)\n",
    "\n",
    "plt.bar(range(episodes), outcomes)\n",
    "\n",
    "# --------------------\n",
    "# testing\n",
    "episodes = 100\n",
    "nb_success = 0\n",
    "\n",
    "for _ in tqdm(range(episodes)):\n",
    "\n",
    "    state, _ = environment.reset()\n",
    "    done = False # ajanin basari durumu\n",
    "\n",
    "    while not done: # ajan basarili olana kadar state icerisinde hareket et (action sec ve uygula)\n",
    "\n",
    "        # action\n",
    "        if np.max(qtable[state]) > 0:\n",
    "            action = np.argmax(qtable[state])\n",
    "        else:\n",
    "            action = environment.action_space.sample()\n",
    "        \n",
    "        new_state, reward, done, info, _ = environment.step(action)\n",
    "\n",
    "        state = new_state\n",
    "\n",
    "        nb_success += reward\n",
    "\n",
    "print()\n",
    "print(\"Success rate :\", 100*nb_success/episodes)"
   ]
  }
 ],
 "metadata": {
  "kernelspec": {
   "display_name": ".env",
   "language": "python",
   "name": "python3"
  },
  "language_info": {
   "codemirror_mode": {
    "name": "ipython",
    "version": 3
   },
   "file_extension": ".py",
   "mimetype": "text/x-python",
   "name": "python",
   "nbconvert_exporter": "python",
   "pygments_lexer": "ipython3",
   "version": "3.13.5"
  }
 },
 "nbformat": 4,
 "nbformat_minor": 5
}
