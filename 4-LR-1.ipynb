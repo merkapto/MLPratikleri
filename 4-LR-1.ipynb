{
 "cells": [
  {
   "cell_type": "code",
   "execution_count": 18,
   "id": "f48ab4bc",
   "metadata": {},
   "outputs": [
    {
     "name": "stdout",
     "output_type": "stream",
     "text": [
      "Logistic Regression Accuracy : 0.7333333333333333\n"
     ]
    }
   ],
   "source": [
    "# https://archive.ics.uci.edu/dataset/45/heart+disease\n",
    "\n",
    "from ucimlrepo import fetch_ucirepo\n",
    "from sklearn.model_selection import train_test_split\n",
    "from sklearn.linear_model import LogisticRegression\n",
    "import pandas as pd\n",
    "import warnings\n",
    "\n",
    "warnings.filterwarnings(\"ignore\")\n",
    "\n",
    "# heart_disease = fetch_ucirepo(name = \"heart_disease\")\n",
    "heart_disease = fetch_ucirepo(id=45)\n",
    "\n",
    "df = pd.DataFrame(data = heart_disease.data.features)\n",
    "# pandas dataframe icinde features yaninda target verilerini de gormek icin ekledik\n",
    "df[\"target\"] = heart_disease.data.targets\n",
    "\n",
    "# preprocessing\n",
    "# dataset has missing value, so first drop it :) \n",
    "if df.isna().any().any():\n",
    "    df.dropna(inplace=True) # 6 adet veri tablodan silindi\n",
    "    # print(\"nan\")\n",
    "elif df.isna().any().any():\n",
    "    print(\"nan\")\n",
    "\n",
    "# training oncesi X'te target kolonu olmamali\n",
    "# X = df.drop([\"target\"], axis=1)\n",
    "# ustteki kod dataframe tipinde veri uretti, numpy array'e donusturmek icin .values ile bitiriyoruz\n",
    "X = df.drop([\"target\"], axis=1).values\n",
    "y = df.target.values\n",
    "\n",
    "X_train, X_test, y_train, y_test = train_test_split(X, y, test_size=0.1, random_state=42)\n",
    "\n",
    "log_reg = LogisticRegression(penalty=\"l2\", C=1, solver=\"lbfgs\", max_iter=100)\n",
    "log_reg.fit(X_train, y_train)\n",
    "\n",
    "# normalde egitim sonrasinda, \"X_test\" verisine gore tahmin sonucu \"y_pred\" elde edilip, \n",
    "# bu degerleri gercek degerler olan \"y_test\" target verileri ile arasindaki accuracy hesaplardik \n",
    "# y_pred = knn.predict(X_test)\n",
    "# accuracy = accuracy_score(y_test, y_pred)\n",
    "# print(\"Doğruluk :\", accuracy)\n",
    "\n",
    "# kisayoldan ikisini birden yani hem predict hem de accuracy bulabiliriz\n",
    "accuracy = log_reg.score(X_test, y_test)\n",
    "print(\"Logistic Regression Accuracy :\", accuracy)"
   ]
  }
 ],
 "metadata": {
  "kernelspec": {
   "display_name": ".env",
   "language": "python",
   "name": "python3"
  },
  "language_info": {
   "codemirror_mode": {
    "name": "ipython",
    "version": 3
   },
   "file_extension": ".py",
   "mimetype": "text/x-python",
   "name": "python",
   "nbconvert_exporter": "python",
   "pygments_lexer": "ipython3",
   "version": "3.13.5"
  }
 },
 "nbformat": 4,
 "nbformat_minor": 5
}
