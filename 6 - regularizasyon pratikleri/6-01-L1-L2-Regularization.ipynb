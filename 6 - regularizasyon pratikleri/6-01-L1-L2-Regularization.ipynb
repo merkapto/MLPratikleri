{
 "cells": [
  {
   "cell_type": "code",
   "execution_count": null,
   "id": "da89f1c1",
   "metadata": {},
   "outputs": [
    {
     "name": "stdout",
     "output_type": "stream",
     "text": [
      "Best Ridge parameters: {'alpha': 0.1}\n",
      "Best Ridge score: 0.45647798015266455\n",
      "Ridge Mean Squared Error on test set: 2856.4868876706537\n",
      "\n",
      "Best Lasso parameters: {'alpha': 0.1}\n",
      "Best Lasso score: 0.4555104983088939\n",
      "Lasso Mean Squared Error on test set: 2798.193485169719\n"
     ]
    }
   ],
   "source": [
    "from sklearn.datasets import load_diabetes\n",
    "from sklearn.model_selection import train_test_split, GridSearchCV\n",
    "from sklearn.linear_model import Ridge, Lasso\n",
    "from sklearn.metrics import mean_squared_error\n",
    "\n",
    "# Load the diabetes dataset\n",
    "diabetes = load_diabetes()\n",
    "X = diabetes.data\n",
    "y = diabetes.target\n",
    "\n",
    "# Split the dataset into training and testing sets\n",
    "X_train, X_test, y_train, y_test = train_test_split(X, y, test_size=0.2, random_state=42)\n",
    "\n",
    "# Initialize and train the Ridge regression model (L2 regularization)\n",
    "ridge = Ridge()\n",
    "ridge_param_grid = {'alpha': [0.1, 1.0, 10.0, 100.0]}\n",
    "\n",
    "ridge_grid_search = GridSearchCV(ridge, ridge_param_grid, cv=5)\n",
    "ridge_grid_search.fit(X_train, y_train)\n",
    "print(f\"Best Ridge parameters: {ridge_grid_search.best_params_}\")\n",
    "print(f\"Best Ridge score: {ridge_grid_search.best_score_}\")\n",
    "\n",
    "best_ridge_model = ridge_grid_search.best_estimator_\n",
    "y_pred_ridge = best_ridge_model.predict(X_test)\n",
    "ridge_mse = mean_squared_error(y_test, y_pred_ridge)\n",
    "print(f\"Ridge Mean Squared Error on test set: {ridge_mse}\")\n",
    "print()\n",
    "\n",
    "# Initialize and train the Lasso regression model (L1 regularization)\n",
    "lasso = Lasso(max_iter=10000)\n",
    "lasso_param_grid = {'alpha': [0.01, 0.1, 1.0, 10.0, 100.0]}\n",
    "\n",
    "lasso_grid_search = GridSearchCV(lasso, lasso_param_grid, cv=5)\n",
    "lasso_grid_search.fit(X_train, y_train)\n",
    "print(f\"Best Lasso parameters: {lasso_grid_search.best_params_}\")\n",
    "print(f\"Best Lasso score: {lasso_grid_search.best_score_}\")\n",
    "\n",
    "best_lasso_model = lasso_grid_search.best_estimator_\n",
    "y_pred_lasso = best_lasso_model.predict(X_test)\n",
    "lasso_mse = mean_squared_error(y_test, y_pred_lasso)\n",
    "print(f\"Lasso Mean Squared Error on test set: {lasso_mse}\")"
   ]
  }
 ],
 "metadata": {
  "kernelspec": {
   "display_name": ".venv",
   "language": "python",
   "name": "python3"
  },
  "language_info": {
   "codemirror_mode": {
    "name": "ipython",
    "version": 3
   },
   "file_extension": ".py",
   "mimetype": "text/x-python",
   "name": "python",
   "nbconvert_exporter": "python",
   "pygments_lexer": "ipython3",
   "version": "3.11.13"
  }
 },
 "nbformat": 4,
 "nbformat_minor": 5
}
