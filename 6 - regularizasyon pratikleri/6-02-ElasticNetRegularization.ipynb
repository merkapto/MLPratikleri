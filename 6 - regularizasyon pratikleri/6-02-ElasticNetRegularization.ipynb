{
 "cells": [
  {
   "cell_type": "code",
   "execution_count": null,
   "id": "09cc9def",
   "metadata": {},
   "outputs": [
    {
     "name": "stdout",
     "output_type": "stream",
     "text": [
      "Best Hyperparameters: {'alpha': 0.1, 'l1_ratio': 0.9}\n",
      "Best Cross-validation Score: 0.2525948988969631\n"
     ]
    }
   ],
   "source": [
    "from math import e\n",
    "from sklearn.datasets import load_diabetes\n",
    "from sklearn.model_selection import train_test_split, GridSearchCV\n",
    "from sklearn.linear_model import ElasticNet\n",
    "from sklearn.metrics import mean_squared_error, r2_score\n",
    "\n",
    "# Load the diabetes dataset\n",
    "diabetes = load_diabetes()\n",
    "X = diabetes.data\n",
    "y = diabetes.target\n",
    "\n",
    "# Split the dataset into training and testing sets\n",
    "X_train, X_test, y_train, y_test = train_test_split(X, y, test_size=0.2, random_state=42)\n",
    "\n",
    "# Define the model\n",
    "elastic_net = ElasticNet()\n",
    "# Define the hyperparameter grid\n",
    "elastic_net_param_grid = {\n",
    "    'alpha': [0.1, 1.0, 10.0, 100.0],\n",
    "    'l1_ratio': [0.1, 0.3, 0.5, 0.7, 0.9] # L1 or L2 penalty ratio\n",
    "}\n",
    "# Set up GridSearchCV\n",
    "elastic_net_grid_search = GridSearchCV(elastic_net, elastic_net_param_grid, cv=5)\n",
    "elastic_net_grid_search.fit(X_train, y_train)\n",
    "print(\"Best Hyperparameters:\", elastic_net_grid_search.best_params_)\n",
    "print(\"Best Cross-validation Score:\", elastic_net_grid_search.best_score_)\n",
    "\n",
    "best_elastic_net_model = elastic_net_grid_search.best_estimator_\n",
    "y_pred = best_elastic_net_model.predict(X_test)\n",
    "mse = mean_squared_error(y_test, y_pred)\n",
    "r2 = r2_score(y_test, y_pred)\n",
    "print(f\"Test MSE: {mse:.2f}\")\n",
    "print(f\"Test R²: {r2:.2f}\")"
   ]
  }
 ],
 "metadata": {
  "kernelspec": {
   "display_name": ".venv",
   "language": "python",
   "name": "python3"
  },
  "language_info": {
   "codemirror_mode": {
    "name": "ipython",
    "version": 3
   },
   "file_extension": ".py",
   "mimetype": "text/x-python",
   "name": "python",
   "nbconvert_exporter": "python",
   "pygments_lexer": "ipython3",
   "version": "3.11.13"
  }
 },
 "nbformat": 4,
 "nbformat_minor": 5
}
