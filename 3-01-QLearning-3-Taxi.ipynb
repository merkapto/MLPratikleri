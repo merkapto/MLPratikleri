{
 "cells": [
  {
   "cell_type": "code",
   "execution_count": null,
   "id": "c75cfbe5",
   "metadata": {},
   "outputs": [
    {
     "name": "stdout",
     "output_type": "stream",
     "text": [
      "+---------+\n",
      "|\u001b[34;1mR\u001b[0m: | : :G|\n",
      "| : | : : |\n",
      "| : :\u001b[43m \u001b[0m: : |\n",
      "| | : | : |\n",
      "|Y| : |\u001b[35mB\u001b[0m: |\n",
      "+---------+\n",
      "\n",
      "\n"
     ]
    },
    {
     "name": "stderr",
     "output_type": "stream",
     "text": [
      "100%|██████████| 100000/100000 [00:30<00:00, 3269.80it/s]\n"
     ]
    },
    {
     "name": "stdout",
     "output_type": "stream",
     "text": [
      "Training finished\n"
     ]
    },
    {
     "name": "stderr",
     "output_type": "stream",
     "text": [
      "100%|██████████| 100/100 [00:00<00:00, 6048.46it/s]"
     ]
    },
    {
     "name": "stdout",
     "output_type": "stream",
     "text": [
      "Result after 100 episode\n",
      "Average timesteps per episode : 13.11\n",
      "Average penalties per episode : 0.0\n"
     ]
    },
    {
     "name": "stderr",
     "output_type": "stream",
     "text": [
      "\n"
     ]
    }
   ],
   "source": [
    "import gymnasium as gym\n",
    "import numpy as np\n",
    "import random\n",
    "from tqdm import tqdm\n",
    "\n",
    "env = gym.make(\"Taxi-v3\", render_mode=\"ansi\")\n",
    "env.reset()\n",
    "print(env.render())\n",
    "\n",
    "\"\"\"\n",
    "0: guney\n",
    "1: kuzey\n",
    "2: dogu\n",
    "3: bati\n",
    "4: yolcuyu al\n",
    "5: yolcuyu birak\n",
    "\"\"\"\n",
    "\n",
    "action_space = env.action_space.n\n",
    "state_space = env.observation_space.n\n",
    "\n",
    "q_table = np.zeros((state_space, action_space))\n",
    "\n",
    "alpha = 0.1 # learning rate\n",
    "gamma = 0.6 # discount rate\n",
    "epsilon = 0.1 # epsilon\n",
    "\n",
    "for i in tqdm(range(1, 100001)):\n",
    "    state, _ = env.reset()\n",
    "\n",
    "    done = False\n",
    "\n",
    "    while not done:\n",
    "\n",
    "        if random.uniform(0,1) < epsilon: # explore - %10\n",
    "            action = env.action_space.sample()\n",
    "        else: # exploit\n",
    "            action = np.argmax(q_table[state])\n",
    "\n",
    "        next_state, reward, done, info, _ = env.step(action)\n",
    "\n",
    "        q_table[state, action] = q_table[state, action] + alpha * (reward + gamma * np.max(q_table[next_state]) - q_table[state, action])\n",
    "\n",
    "        state = next_state\n",
    "\n",
    "print(\"Training finished\")\n",
    "\n",
    "# testing\n",
    "total_epoch, total_penalties = 0, 0\n",
    "episodes = 100\n",
    "\n",
    "for i in tqdm(range(episodes)):\n",
    "    state, _ = env.reset()\n",
    "\n",
    "    epochs, penalties, reward = 0, 0, 0\n",
    "\n",
    "    done = False\n",
    "\n",
    "    while not done:\n",
    "        action = np.argmax(q_table[state])\n",
    "\n",
    "        next_state, reward, done, info, _ = env.step(action)\n",
    "\n",
    "        state = next_state\n",
    "\n",
    "        if reward == -10:\n",
    "            penalties += 1\n",
    "        \n",
    "        epochs += 1\n",
    "    \n",
    "    total_epoch += epochs\n",
    "    total_penalties += penalties\n",
    "\n",
    "print(\"Result after {} episode\".format(episodes))\n",
    "print(\"Average timesteps per episode :\", total_epoch/episodes)\n",
    "print(\"Average penalties per episode :\", total_penalties/episodes)\n",
    "\n"
   ]
  }
 ],
 "metadata": {
  "kernelspec": {
   "display_name": ".env",
   "language": "python",
   "name": "python3"
  },
  "language_info": {
   "codemirror_mode": {
    "name": "ipython",
    "version": 3
   },
   "file_extension": ".py",
   "mimetype": "text/x-python",
   "name": "python",
   "nbconvert_exporter": "python",
   "pygments_lexer": "ipython3",
   "version": "3.13.5"
  }
 },
 "nbformat": 4,
 "nbformat_minor": 5
}
