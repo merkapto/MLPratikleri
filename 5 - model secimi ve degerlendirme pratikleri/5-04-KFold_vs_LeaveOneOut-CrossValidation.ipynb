{
 "cells": [
  {
   "cell_type": "code",
   "execution_count": 30,
   "id": "8ad971ec",
   "metadata": {},
   "outputs": [
    {
     "name": "stdout",
     "output_type": "stream",
     "text": [
      "KFold CV Best Parameters: {'max_depth': 5}\n",
      "KFold CV Best Score: 0.9416666666666667\n",
      "Leave-One-Out CV Best Parameters: {'max_depth': 3}\n",
      "Leave-One-Out CV Best Score: 0.9333333333333333\n"
     ]
    }
   ],
   "source": [
    "from sklearn.datasets import load_iris\n",
    "from sklearn.model_selection import train_test_split, KFold, LeaveOneOut, GridSearchCV\n",
    "from sklearn.tree import DecisionTreeClassifier\n",
    "\n",
    "iris = load_iris()\n",
    "X, y = iris.data, iris.target\n",
    "X_train, X_test, y_train, y_test = train_test_split(X, y, test_size=0.2, random_state=42)\n",
    "\n",
    "tree = DecisionTreeClassifier()\n",
    "tree_param_dist = {\"max_depth\": [3, 5, 7],}\n",
    "\n",
    "# KFold Grid Search Cross Validation\n",
    "kf = KFold(n_splits=10)\n",
    "tree_grid_search_kf = GridSearchCV(tree, tree_param_dist, cv=kf)\n",
    "tree_grid_search_kf.fit(X_train, y_train)\n",
    "print(\"KFold CV Best Parameters:\", tree_grid_search_kf.best_params_)\n",
    "print(\"KFold CV Best Score:\", tree_grid_search_kf.best_score_)\n",
    "\n",
    "# Leave-One-Out Cross Validation\n",
    "loo = LeaveOneOut()\n",
    "tree_grid_search_loo = GridSearchCV(tree, tree_param_dist, cv=loo)\n",
    "tree_grid_search_loo.fit(X_train, y_train)\n",
    "print(\"Leave-One-Out CV Best Parameters:\", tree_grid_search_loo.best_params_)\n",
    "print(\"Leave-One-Out CV Best Score:\", tree_grid_search_loo.best_score_)"
   ]
  }
 ],
 "metadata": {
  "kernelspec": {
   "display_name": ".venv",
   "language": "python",
   "name": "python3"
  },
  "language_info": {
   "codemirror_mode": {
    "name": "ipython",
    "version": 3
   },
   "file_extension": ".py",
   "mimetype": "text/x-python",
   "name": "python",
   "nbconvert_exporter": "python",
   "pygments_lexer": "ipython3",
   "version": "3.11.13"
  }
 },
 "nbformat": 4,
 "nbformat_minor": 5
}
