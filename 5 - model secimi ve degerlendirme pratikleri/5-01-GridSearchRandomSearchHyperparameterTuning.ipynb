{
 "cells": [
  {
   "cell_type": "code",
   "execution_count": 32,
   "id": "9190cc9f",
   "metadata": {},
   "outputs": [
    {
     "name": "stdout",
     "output_type": "stream",
     "text": [
      "Best parameters from GridSearchCV: {'n_neighbors': np.int64(3)}\n",
      "Best accuracy from GridSearchCV: 0.9583333333333334\n",
      "Best parameters from RandomizedSearchCV: {'n_neighbors': np.int64(3)}\n",
      "Best accuracy from RandomizedSearchCV: 0.9583333333333334\n"
     ]
    }
   ],
   "source": [
    "from sklearn.datasets import load_iris\n",
    "from sklearn.model_selection import train_test_split, GridSearchCV, RandomizedSearchCV\n",
    "from sklearn.neighbors import KNeighborsClassifier\n",
    "\n",
    "import numpy as np\n",
    "\n",
    "iris = load_iris()\n",
    "X, y = iris.data, iris.target\n",
    "\n",
    "X_train, X_test, y_train, y_test = train_test_split(X, y, test_size=0.2, random_state=42)\n",
    "\n",
    "knn = KNeighborsClassifier()\n",
    "# knn_param_grid = {\n",
    "#     'n_neighbors': [3, 5, 7, 9],\n",
    "#     'weights': ['uniform', 'distance'],\n",
    "#     'metric': ['euclidean', 'manhattan']\n",
    "# }\n",
    "# Simplified parameter grid for demonstration purposes\n",
    "knn_param_grid = {\"n_neighbors\": np.arange(2, 31)}\n",
    "\n",
    "# Grid Search\n",
    "knn_grid_search = GridSearchCV(knn, knn_param_grid)\n",
    "knn_grid_search.fit(X_train, y_train)\n",
    "print(\"Best parameters from GridSearchCV:\", knn_grid_search.best_params_)\n",
    "print(\"Best accuracy from GridSearchCV:\", knn_grid_search.best_score_)\n",
    "\n",
    "# Randomized Search\n",
    "knn_random_search = RandomizedSearchCV(knn, knn_param_grid, n_iter=10)  # standart kutuphanede n_iter = 10'dur.\n",
    "                                                                        # dolayisiyla rastgele 10 adet seciyor, o yuzden farkli cikiyor.\n",
    "                                                                        # eger n_iter=29 (np.arange(2, 31) = 29 adet) yaparsak gridsearch ile ayni sonucu verir.\n",
    "knn_random_search.fit(X_train, y_train)\n",
    "print(\"Best parameters from RandomizedSearchCV:\", knn_random_search.best_params_)\n",
    "print(\"Best accuracy from RandomizedSearchCV:\", knn_random_search.best_score_)"
   ]
  }
 ],
 "metadata": {
  "kernelspec": {
   "display_name": ".venv",
   "language": "python",
   "name": "python3"
  },
  "language_info": {
   "codemirror_mode": {
    "name": "ipython",
    "version": 3
   },
   "file_extension": ".py",
   "mimetype": "text/x-python",
   "name": "python",
   "nbconvert_exporter": "python",
   "pygments_lexer": "ipython3",
   "version": "3.11.13"
  }
 },
 "nbformat": 4,
 "nbformat_minor": 5
}
