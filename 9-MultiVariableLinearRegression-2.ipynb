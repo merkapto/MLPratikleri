{
 "cells": [
  {
   "cell_type": "code",
   "execution_count": 2,
   "id": "fae2f953",
   "metadata": {},
   "outputs": [
    {
     "name": "stdout",
     "output_type": "stream",
     "text": [
      "rmse : 53.85344583676593\n"
     ]
    }
   ],
   "source": [
    "from sklearn.datasets import load_diabetes\n",
    "from sklearn.model_selection import train_test_split\n",
    "from sklearn.linear_model import LinearRegression\n",
    "from sklearn.metrics import mean_squared_error, root_mean_squared_error\n",
    "\n",
    "diabetes = load_diabetes()\n",
    "\n",
    "X = diabetes.data\n",
    "y = diabetes.target\n",
    "\n",
    "X_train, X_test, y_train, y_test = train_test_split(X, y, test_size=0.2, random_state=42)\n",
    "\n",
    "lin_reg = LinearRegression()\n",
    "lin_reg.fit(X_train, y_train)\n",
    "\n",
    "y_pred = lin_reg.predict(X_test)\n",
    "\n",
    "# rmse = mean_squared_error(y_test, y_pred, squared=False) # squared=False parametresi ile root-mean-squared-error hesaplanır\n",
    "# mean_squared_error fonksiyonunda son versiyonlarda squared parametresi kaldirilmis :))\n",
    "# root_mean_squared_error fonksiyonunu direk cagir ya da mean_squared_error 'in karekokunu hesaplat\n",
    "# rmse = np.sqrt(mse)\n",
    "rmse = root_mean_squared_error(y_test, y_pred)\n",
    "print(\"rmse :\", rmse)"
   ]
  }
 ],
 "metadata": {
  "kernelspec": {
   "display_name": ".env",
   "language": "python",
   "name": "python3"
  },
  "language_info": {
   "codemirror_mode": {
    "name": "ipython",
    "version": 3
   },
   "file_extension": ".py",
   "mimetype": "text/x-python",
   "name": "python",
   "nbconvert_exporter": "python",
   "pygments_lexer": "ipython3",
   "version": "3.13.5"
  }
 },
 "nbformat": 4,
 "nbformat_minor": 5
}
