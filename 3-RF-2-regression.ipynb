{
 "cells": [
  {
   "cell_type": "code",
   "execution_count": null,
   "id": "d1491868",
   "metadata": {},
   "outputs": [
    {
     "name": "stdout",
     "output_type": "stream",
     "text": [
      "mean-squared-error : 0.2553684927247781\n",
      "root-mean-squared-error : 0.5053399773665033\n"
     ]
    }
   ],
   "source": [
    "from sklearn.datasets import fetch_california_housing\n",
    "from sklearn.model_selection import train_test_split\n",
    "from sklearn.ensemble import RandomForestRegressor\n",
    "from sklearn.metrics import mean_squared_error\n",
    "import numpy as np\n",
    "\n",
    "california_housing = fetch_california_housing()\n",
    "# print(california_housing.DESCR)\n",
    "# price = []\n",
    "# for i in california_housing.target:\n",
    "    # price.append(i)\n",
    "\n",
    "X = california_housing.data\n",
    "y = california_housing.target\n",
    "\n",
    "X_train, X_test, y_train, y_test = train_test_split(X, y, test_size=0.2, random_state=42)\n",
    "rf_reg = RandomForestRegressor(random_state=42)\n",
    "rf_reg.fit(X_train, y_train)\n",
    "\n",
    "y_pred = rf_reg.predict(X_test)\n",
    "\n",
    "# mse ile testteki gercek ev fiyatları ile tahmin edilen ev fiyatlarini karsilastiriyoruz.\n",
    "# ama rmse 'de cikan degerler bizim ev fiyatimizla ayni birimde cikiyor \n",
    "mse = mean_squared_error(y_test, y_pred)\n",
    "rmse = np.sqrt(mse)\n",
    "\n",
    "print(\"mean-squared-error :\" ,mse)\n",
    "print(\"root-mean-squared-error :\" ,rmse)\n",
    "# rmse'de cikan sonuc yaklasik 0.5 --> yani tahminlerimizde ev fiyatlari ile 0.5 dolarlik farkla ev fiyatlarini tahmin etmisiz gibi\n",
    "# tum ev fiyatlarina kabaca baktigimizda 4.500, 1.5, 3.235 gibi fiyatlar var. sanirim 4.5 milyon dolar, 3.25 milyon dolar gibi\n",
    "# sonuc olarak rmse ile 0.5 milyon dolar farkla tahmin etmisiz :))"
   ]
  }
 ],
 "metadata": {
  "kernelspec": {
   "display_name": ".venv",
   "language": "python",
   "name": "python3"
  },
  "language_info": {
   "codemirror_mode": {
    "name": "ipython",
    "version": 3
   },
   "file_extension": ".py",
   "mimetype": "text/x-python",
   "name": "python",
   "nbconvert_exporter": "python",
   "pygments_lexer": "ipython3",
   "version": "3.13.5"
  }
 },
 "nbformat": 4,
 "nbformat_minor": 5
}
